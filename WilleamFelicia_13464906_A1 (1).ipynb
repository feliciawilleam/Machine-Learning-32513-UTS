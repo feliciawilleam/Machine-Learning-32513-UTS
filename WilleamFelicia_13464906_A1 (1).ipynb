{
  "nbformat": 4,
  "nbformat_minor": 0,
  "metadata": {
    "kernelspec": {
      "display_name": "Python 3",
      "language": "python",
      "name": "python3"
    },
    "language_info": {
      "codemirror_mode": {
        "name": "ipython",
        "version": 3
      },
      "file_extension": ".py",
      "mimetype": "text/x-python",
      "name": "python",
      "nbconvert_exporter": "python",
      "pygments_lexer": "ipython3",
      "version": "3.5.4"
    },
    "toc": {
      "base_numbering": 1,
      "nav_menu": {},
      "number_sections": true,
      "sideBar": true,
      "skip_h1_title": false,
      "title_cell": "Table of Contents",
      "title_sidebar": "Contents",
      "toc_cell": false,
      "toc_position": {},
      "toc_section_display": true,
      "toc_window_display": false
    },
    "colab": {
      "name": "WilleamFelicia_13464906_A1",
      "version": "0.3.2",
      "provenance": [],
      "collapsed_sections": [],
      "toc_visible": true
    }
  },
  "cells": [
    {
      "cell_type": "markdown",
      "metadata": {
        "id": "msbYzMsQtXYA",
        "colab_type": "text"
      },
      "source": [
        "# Review Report on Eigenfaces vs. Fisherfaces: Recognition Using Class Specific Linear Projection"
      ]
    },
    {
      "cell_type": "markdown",
      "metadata": {
        "id": "MT9NSi-QtXYB",
        "colab_type": "text"
      },
      "source": [
        "## Introduction\n",
        "\n"
      ]
    },
    {
      "cell_type": "markdown",
      "metadata": {
        "id": "m8a5AhHXqyjN",
        "colab_type": "text"
      },
      "source": [
        "Facial recognition has become one of the most popular technology today. Especially since the implementation of the technology on smartphones, facial recognition is becoming more and more common in day to day life. In this paper I have learned a great deal of the algorithm behind it, implementation of the methods in different experimentations under different lighting, facial expression and eyewear or facial hair.  "
      ]
    },
    {
      "cell_type": "markdown",
      "metadata": {
        "id": "LV0Mx4qDtXYB",
        "colab_type": "text"
      },
      "source": [
        "## Content"
      ]
    },
    {
      "cell_type": "markdown",
      "metadata": {
        "id": "HmEeMUQRkE7j",
        "colab_type": "text"
      },
      "source": [
        "\n",
        "The paper research is exploring different algorithm for face recognition that works under different variations of lightning direction, lighting intensity, number of light sources, and different facial expressions.\n",
        "The paper mentioned four different algorithms, two being the most popular algorithm used in face recognition at the time – which are correlation and Eigenfaces. The other two algorithms method that is being explored in the paper is Linear Subspaces and Fisherfaces.\n",
        "This paper also explored which is the best performing algorithm if given face recognition with variations of lighting, facial expression and eyewear.\n"
      ]
    },
    {
      "cell_type": "markdown",
      "metadata": {
        "id": "MI1F0468tXYD",
        "colab_type": "text"
      },
      "source": [
        "## Innovation"
      ]
    },
    {
      "cell_type": "markdown",
      "metadata": {
        "id": "K_WnABa5tXYE",
        "colab_type": "text"
      },
      "source": [
        "Correlation method is one of the most popular algorithms at the time, however this method is also known or its disadvantages. Correlation works by normalization of the best-chosen images from the training set compared to the test set.\n",
        "Correlation method would suffer if the training set and data set has different variations of different lighting conditions, and in order to make the method works under different variation of lighting is by having a large amount of training set storage because it will have to store large amount of images for each person. It is also computationally expensive.\n",
        "                \t\n",
        "Eigenfaces is another popular method after correlation. The way this works is by dimensionality reduction schemes, or it is commonly known as principal components analysis (PCA), it record a person’s face by lists of values in eigenface. Unlike correlation, eigenface ends up does not need a large storage or images for each person. This method however also have disadvantage, due to its classification purposes it will have unwanted information due to illumination changes, hence if the image tested have different illumination it will affect the right information.\n",
        " \n",
        "Linear subspace is one of the methods that would consider work well under different variation of lighting. In linear subspace more than one or three images are taken in different lighting to construct a 3D base. According to this reading if linear subspace is executed under no shadowing or noise under any lighting conditions it will achieve error free result. However this method is computationally expensive due to test the images we have to measure the distance to the linear subspace for each faces. Hence it is also require large amount of storage in order to keep three images for each faces.\n",
        " \n",
        "Fisherfaces happened to be the best performing method in this paper. It is considered an example of a ‘class specific method’ because it tries to construct the scatter to create a reliable classification.\n",
        "<br>\n",
        "\n",
        "<b>Experiments <br></b>\n",
        "\n",
        "\n",
        "In the second part of the paper it talk about the experiment results using two different databases hat contains various type of lighting.\n",
        "The first experiment it so test which method is the best performing for face recognition under several of lighting. The light source was arranged by spherical angles in 15-degree increments, this created 330 images of 5 people.\n",
        "\n",
        "With eigenfaces and correlation test the data was normalized to have 0 mean.\n",
        "From this experiment the paper founded that all of the method works perfectly when the lighting is almost from the front of the face, however there is also difference performance between eigenfaces and two classs-specific method\n",
        "The best method that better performed are linear subspace and fisherface, however linear subspace requires more than three times information storage and takes three times longer to process. Hence the Fisherface method emerged to be the best performing method because it has lower error rates than the Eigenface method and require less time to compute.\n",
        " \n",
        "The second experiment is testing these methods for face recognition with facial expression and lighting. In this experiment Belhumeur et al. is using database from Yale Center for Computational Vision and Control, it consists of 16 subjects of male and female some has facial hair and wore glasses, each subject was taken ten images each with a variation of eye wear and different expressions.\n",
        "In the Eigenface and correlation test the images were normalized to have zero mean as they did in the first face recognition test. However, in this test the linear subspace method performed poorly compared with the result from the previous experiment because of different variation of facial expression images does not depend on a linear subspace.  The Fisherface method had better error rates compared to the other methods.\n",
        " \n",
        "The last experiment in the paper is face recognition with eyewear and lighting, the data contained 36 images with half of the number is wearing glasses from Yale Database, thus it is divided into two classes “wearing glasses” and “not wearing glasses”. The recognition were updated to create recognition rates, it works by classifying each image of the person. Fisherface method is considered as the determining template to find glasses and ignoring the rest of the facial characteristics.\n",
        " \n",
        "In conclusion all four methods that were explored performed better if the images on the test set are similar to the training set. Fisherface method turns out to be the best method in variation of lighting and expression. Linear subspace is the second best face recognition under variation of lighting, however it suffers when presented with different variations of facial expressions.\n"
      ]
    },
    {
      "cell_type": "markdown",
      "metadata": {
        "id": "TbpVhOlCtXYE",
        "colab_type": "text"
      },
      "source": [
        "## Technical quality"
      ]
    },
    {
      "cell_type": "markdown",
      "metadata": {
        "id": "Cph9ag0htXYF",
        "colab_type": "text"
      },
      "source": [
        "Belhumer et al have produced a high technical quality of paper; they have successfully explored different methods of facial recognition and experimentation in different lighting, facial expressions and eyewear. They also provided mathematical equation and clear results and step by step of the experimentations. Thus allowing other researchers to understand the thinking processes and identify errors or areas for improvements."
      ]
    },
    {
      "cell_type": "markdown",
      "metadata": {
        "id": "LQoqWt-ZtXYG",
        "colab_type": "text"
      },
      "source": [
        "## Application and X-factor"
      ]
    },
    {
      "cell_type": "markdown",
      "metadata": {
        "id": "9HPokPkKtXYI",
        "colab_type": "text"
      },
      "source": [
        "I personally found the eigenface and the fisherface method, as these methods seem to opened a new research field in the development of face recognition algorithm. The Eigenface method is an attempt to create features in mathematical sense to transform the recognition, whereas the fisherface method is considered a practical approach for face recognition it basically attempted to maximise the ratio between-class and within-class scatter. Due to this simple algorithm it’s the simplest way to implement facial recognition (Jaiswal, Bhadauria and Jadon, 2011).\n",
        " \n",
        "I find that these facts are interesting and would like to explore Apple Face ID recognition and whether it is based on any of the methods that Belhumeur mentioned in the paper.\n"
      ]
    },
    {
      "cell_type": "markdown",
      "metadata": {
        "id": "3JmgZ6MIqjJx",
        "colab_type": "text"
      },
      "source": [
        "# Presentation "
      ]
    },
    {
      "cell_type": "markdown",
      "metadata": {
        "id": "zT4q2u5EqbSI",
        "colab_type": "text"
      },
      "source": [
        "The overall presentation is easy to follow and read. They provided with a clear introduction every section of what they are going to cover. It is also in depth with graphs that compare the results of different methods and sample pictures of the dataset to help readers understand what they are trying to cover. However some of the information seems to require basic knowledge of machine learning, which may be hard to follow. Due to my lack of experience and familiarity in facial recognition this paper was relatively hard to follow, as I need to research word by word of the paper in order to get full understanding."
      ]
    },
    {
      "cell_type": "markdown",
      "metadata": {
        "id": "IT2lUuodtXYJ",
        "colab_type": "text"
      },
      "source": [
        "## References\n",
        "\n",
        "Belhumeur, P., Hespanha, J. and Kriegman, D. (1997). Eigenfaces vs. Fisherfaces: recognition using class specific linear projection. IEEE Transactions on Pattern Analysis and Machine Intelligence, 19(7), pp.711-720.\n",
        "\n",
        "Jaiswal, S., Bhadauria, S. and Jadon, R. (2011). COMPARISON BETWEEN FACE RECOGNITION ALGORITHM-EIGENFACES, FISHERFACES AND ELASTIC BUNCH GRAPH MATCHING. JOURNAL OF GLOBAL RESEARCH IN COMPUTER SCIENCE, [online] 2(7). Available at: https://www.semanticscholar.org/paper/COMPARISON-BETWEEN-FACE-RECOGNITION-FISHERFACES-AND-Jaiswal-Bhadauria/5577880597f01244e6f302c5ece8378b77bebc94 [Accessed 17 Aug. 2019].\n",
        "\n",
        "\n",
        "Github link: https://github.com/feliciawilleam/Machine-Learning-32513-UTS"
      ]
    },
    {
      "cell_type": "code",
      "metadata": {
        "id": "7QwDDiLQ2tNT",
        "colab_type": "code",
        "colab": {}
      },
      "source": [
        ""
      ],
      "execution_count": 0,
      "outputs": []
    }
  ]
}